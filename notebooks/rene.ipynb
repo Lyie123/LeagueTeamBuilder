{
 "cells": [
  {
   "cell_type": "code",
   "execution_count": 1,
   "metadata": {},
   "outputs": [],
   "source": [
    "import pandas as pd"
   ]
  },
  {
   "cell_type": "code",
   "execution_count": 10,
   "metadata": {},
   "outputs": [
    {
     "data": {
      "text/html": [
       "<div>\n",
       "<style scoped>\n",
       "    .dataframe tbody tr th:only-of-type {\n",
       "        vertical-align: middle;\n",
       "    }\n",
       "\n",
       "    .dataframe tbody tr th {\n",
       "        vertical-align: top;\n",
       "    }\n",
       "\n",
       "    .dataframe thead th {\n",
       "        text-align: right;\n",
       "    }\n",
       "</style>\n",
       "<table border=\"1\" class=\"dataframe\">\n",
       "  <thead>\n",
       "    <tr style=\"text-align: right;\">\n",
       "      <th></th>\n",
       "      <th>game_id</th>\n",
       "      <th>team_id</th>\n",
       "      <th>team_position</th>\n",
       "      <th>champion_name</th>\n",
       "      <th>win</th>\n",
       "    </tr>\n",
       "  </thead>\n",
       "  <tbody>\n",
       "    <tr>\n",
       "      <th>0</th>\n",
       "      <td>5893772458</td>\n",
       "      <td>100</td>\n",
       "      <td>TOP</td>\n",
       "      <td>Riven</td>\n",
       "      <td>True</td>\n",
       "    </tr>\n",
       "    <tr>\n",
       "      <th>1</th>\n",
       "      <td>5893772458</td>\n",
       "      <td>100</td>\n",
       "      <td>JUNGLE</td>\n",
       "      <td>LeeSin</td>\n",
       "      <td>True</td>\n",
       "    </tr>\n",
       "    <tr>\n",
       "      <th>2</th>\n",
       "      <td>5893772458</td>\n",
       "      <td>100</td>\n",
       "      <td>MIDDLE</td>\n",
       "      <td>Katarina</td>\n",
       "      <td>True</td>\n",
       "    </tr>\n",
       "    <tr>\n",
       "      <th>3</th>\n",
       "      <td>5893772458</td>\n",
       "      <td>100</td>\n",
       "      <td>BOTTOM</td>\n",
       "      <td>Jinx</td>\n",
       "      <td>True</td>\n",
       "    </tr>\n",
       "    <tr>\n",
       "      <th>4</th>\n",
       "      <td>5893772458</td>\n",
       "      <td>100</td>\n",
       "      <td>UTILITY</td>\n",
       "      <td>Bard</td>\n",
       "      <td>True</td>\n",
       "    </tr>\n",
       "  </tbody>\n",
       "</table>\n",
       "</div>"
      ],
      "text/plain": [
       "      game_id  team_id team_position champion_name   win\n",
       "0  5893772458      100           TOP         Riven  True\n",
       "1  5893772458      100        JUNGLE        LeeSin  True\n",
       "2  5893772458      100        MIDDLE      Katarina  True\n",
       "3  5893772458      100        BOTTOM          Jinx  True\n",
       "4  5893772458      100       UTILITY          Bard  True"
      ]
     },
     "execution_count": 10,
     "metadata": {},
     "output_type": "execute_result"
    }
   ],
   "source": [
    "data = pd.read_csv('..\\data\\league_champion_win.csv')\n",
    "data.head()"
   ]
  },
  {
   "cell_type": "code",
   "execution_count": 41,
   "metadata": {},
   "outputs": [
    {
     "data": {
      "text/html": [
       "<div>\n",
       "<style scoped>\n",
       "    .dataframe tbody tr th:only-of-type {\n",
       "        vertical-align: middle;\n",
       "    }\n",
       "\n",
       "    .dataframe tbody tr th {\n",
       "        vertical-align: top;\n",
       "    }\n",
       "\n",
       "    .dataframe thead th {\n",
       "        text-align: right;\n",
       "    }\n",
       "</style>\n",
       "<table border=\"1\" class=\"dataframe\">\n",
       "  <thead>\n",
       "    <tr style=\"text-align: right;\">\n",
       "      <th></th>\n",
       "      <th>team_position</th>\n",
       "      <th>BOTTOM</th>\n",
       "      <th>JUNGLE</th>\n",
       "      <th>MIDDLE</th>\n",
       "      <th>TOP</th>\n",
       "      <th>UTILITY</th>\n",
       "    </tr>\n",
       "    <tr>\n",
       "      <th>game_id</th>\n",
       "      <th>team_id</th>\n",
       "      <th></th>\n",
       "      <th></th>\n",
       "      <th></th>\n",
       "      <th></th>\n",
       "      <th></th>\n",
       "    </tr>\n",
       "  </thead>\n",
       "  <tbody>\n",
       "    <tr>\n",
       "      <th rowspan=\"2\" valign=\"top\">5693035614</th>\n",
       "      <th>100</th>\n",
       "      <td>Caitlyn</td>\n",
       "      <td>Amumu</td>\n",
       "      <td>Vex</td>\n",
       "      <td>Fiora</td>\n",
       "      <td>Velkoz</td>\n",
       "    </tr>\n",
       "    <tr>\n",
       "      <th>200</th>\n",
       "      <td>Ashe</td>\n",
       "      <td>Vi</td>\n",
       "      <td>Diana</td>\n",
       "      <td>Akshan</td>\n",
       "      <td>Brand</td>\n",
       "    </tr>\n",
       "    <tr>\n",
       "      <th rowspan=\"2\" valign=\"top\">5693153109</th>\n",
       "      <th>100</th>\n",
       "      <td>Zeri</td>\n",
       "      <td>Trundle</td>\n",
       "      <td>Cassiopeia</td>\n",
       "      <td>Fiora</td>\n",
       "      <td>Sona</td>\n",
       "    </tr>\n",
       "    <tr>\n",
       "      <th>200</th>\n",
       "      <td>Vayne</td>\n",
       "      <td>JarvanIV</td>\n",
       "      <td>Syndra</td>\n",
       "      <td>Jayce</td>\n",
       "      <td>Lulu</td>\n",
       "    </tr>\n",
       "    <tr>\n",
       "      <th>5696903179</th>\n",
       "      <th>100</th>\n",
       "      <td>Jhin</td>\n",
       "      <td>JarvanIV</td>\n",
       "      <td>Xerath</td>\n",
       "      <td>Fiora</td>\n",
       "      <td>Leona</td>\n",
       "    </tr>\n",
       "  </tbody>\n",
       "</table>\n",
       "</div>"
      ],
      "text/plain": [
       "team_position        BOTTOM    JUNGLE      MIDDLE     TOP UTILITY\n",
       "game_id    team_id                                               \n",
       "5693035614 100      Caitlyn     Amumu         Vex   Fiora  Velkoz\n",
       "           200         Ashe        Vi       Diana  Akshan   Brand\n",
       "5693153109 100         Zeri   Trundle  Cassiopeia   Fiora    Sona\n",
       "           200        Vayne  JarvanIV      Syndra   Jayce    Lulu\n",
       "5696903179 100         Jhin  JarvanIV      Xerath   Fiora   Leona"
      ]
     },
     "execution_count": 41,
     "metadata": {},
     "output_type": "execute_result"
    }
   ],
   "source": [
    "data_pivot = pd.pivot_table(data, index=['game_id', 'team_id'], columns='team_position', values='champion_name', aggfunc='max')\n",
    "data_pivot.head()"
   ]
  }
 ],
 "metadata": {
  "kernelspec": {
   "display_name": "Python 3.9.7 ('base')",
   "language": "python",
   "name": "python3"
  },
  "language_info": {
   "codemirror_mode": {
    "name": "ipython",
    "version": 3
   },
   "file_extension": ".py",
   "mimetype": "text/x-python",
   "name": "python",
   "nbconvert_exporter": "python",
   "pygments_lexer": "ipython3",
   "version": "3.9.7"
  },
  "orig_nbformat": 4,
  "vscode": {
   "interpreter": {
    "hash": "d39c331e748c8e775aad011559df94cb70426e7c0d638e4b8caab144089acf10"
   }
  }
 },
 "nbformat": 4,
 "nbformat_minor": 2
}
